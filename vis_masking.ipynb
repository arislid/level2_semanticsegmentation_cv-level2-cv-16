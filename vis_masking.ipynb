{
 "cells": [
  {
   "cell_type": "code",
   "execution_count": 19,
   "metadata": {},
   "outputs": [],
   "source": [
    "import os\n",
    "from os import path as osp\n",
    "from ipywidgets import interact, Dropdown\n",
    "import matplotlib.pyplot as plt\n",
    "import cv2\n",
    "import numpy as np\n",
    "import matplotlib.patches as mpatches"
   ]
  },
  {
   "cell_type": "code",
   "execution_count": 2,
   "metadata": {},
   "outputs": [],
   "source": [
    "CLASSES = [\n",
    "    'All', 'General trash', 'Paper', 'Paper pack', 'Metal', 'Glass',\n",
    "    'Plastic', 'Styrofoam', 'Plastic bag', 'Battery', 'Clothing'\n",
    "]\n",
    "\n",
    "PALLETE = [[  0,   0,   0], [128,   0,   0], [  0, 128,   0], [128, 128,   0],\n",
    "            [  0,   0, 128], [128,   0, 128], [  0, 128, 128], [128, 128, 128],\n",
    "            [ 64,   0,   0], [192,   0,   0],[ 64, 128,   0]]"
   ]
  },
  {
   "cell_type": "code",
   "execution_count": 6,
   "metadata": {},
   "outputs": [],
   "source": [
    "base_dir = '/opt/ml/input/data/copy_paste'\n",
    "batch_dir = 'batch_02_vt'\n",
    "img_dir = osp.join(base_dir, batch_dir, 'images')\n",
    "anno_dir = osp.join(base_dir, batch_dir, 'annotations')"
   ]
  },
  {
   "cell_type": "code",
   "execution_count": 7,
   "metadata": {},
   "outputs": [],
   "source": [
    "img_files = os.listdir(img_dir)\n",
    "anno_files = os.listdir(anno_dir)\n",
    "img_files.sort()\n",
    "anno_files.sort()"
   ]
  },
  {
   "cell_type": "code",
   "execution_count": 47,
   "metadata": {},
   "outputs": [
    {
     "data": {
      "application/vnd.jupyter.widget-view+json": {
       "model_id": "b705b8312d1242daa68921517b562888",
       "version_major": 2,
       "version_minor": 0
      },
      "text/plain": [
       "interactive(children=(IntSlider(value=0, description='idx', max=1561), FloatSlider(value=0.5, description='alp…"
      ]
     },
     "metadata": {},
     "output_type": "display_data"
    }
   ],
   "source": [
    "@interact(\n",
    "    idx=(0, len(img_files)), \n",
    "    alpha=(0, 1, 0.1),\n",
    "    option=Dropdown(\n",
    "        options=CLASSES,\n",
    "        value=CLASSES[0],\n",
    "        description='Class:',\n",
    "        disabled=False,\n",
    "    ))\n",
    "def show_img(idx=0, alpha=0.5, option=None):\n",
    "    plt.figure(figsize=(11, 11))\n",
    "    plt.suptitle(batch_dir)\n",
    "    \n",
    "    plt.subplot(2, 2, 1)\n",
    "    plt.title(img_files[idx])\n",
    "    img = cv2.imread(osp.join(img_dir, img_files[idx]))\n",
    "    img = cv2.cvtColor(img, cv2.COLOR_BGR2RGB)\n",
    "    plt.imshow(img)\n",
    "    \n",
    "    mask = cv2.imread(osp.join(anno_dir, anno_files[idx]))\n",
    "    stuff = CLASSES.index(option)\n",
    "    print(stuff)\n",
    "    if stuff:\n",
    "        bgrLower = np.array(PALLETE[stuff][::-1])    # 추출할 색의 하한(BGR)\n",
    "        bgrUpper = np.array(PALLETE[stuff][::-1])    # 추출할 색의 상한(BGR)\n",
    "        img_mask = cv2.inRange(mask, bgrLower, bgrUpper) # BGR로 부터 마스크를 작성\n",
    "        mask = cv2.bitwise_and(mask, mask, mask=img_mask)\n",
    "    mask = cv2.cvtColor(mask, cv2.COLOR_BGR2RGB)\n",
    "    \n",
    "    plt.subplot(2, 2, 2)\n",
    "    plt.title(anno_files[idx])\n",
    "    handles, labels = plt.gca().get_legend_handles_labels()\n",
    "    patch1 = mpatches.Patch(color=(0, 0, 0), label='All')\n",
    "    patch2 = mpatches.Patch(color=(0.5, 0, 0), label='General trash')\n",
    "    patch3 = mpatches.Patch(color=(0, 0.5, 0), label='Paper')\n",
    "    patch4 = mpatches.Patch(color=(0.5, 0.5, 0), label='Paper pack')\n",
    "    patch5 = mpatches.Patch(color=(0, 0, 0.5), label='Metal')\n",
    "    patch6 = mpatches.Patch(color=(0.5, 0, 0.5), label='Glass')\n",
    "    patch7 = mpatches.Patch(color=(0, 0.5, 0.5), label='Plastic')\n",
    "    patch8 = mpatches.Patch(color=(0.5, 0.5, 0.5), label='Styrofoam')\n",
    "    patch9 = mpatches.Patch(color=(0.25, 0, 0), label='Plastic bag')\n",
    "    patch10 = mpatches.Patch(color=(0.75, 0, 0), label='Battery')\n",
    "    patch11 = mpatches.Patch(color=(0.25, 0.5, 0), label='Clothing')\n",
    "    handles.extend([patch1, patch2, patch3, patch4, patch5, patch6, patch7, patch8, patch9, patch10, patch11])\n",
    "    plt.legend(handles=handles, loc=(0, -0.7))\n",
    "    plt.imshow(mask)\n",
    "    \n",
    "    plt.subplot(2, 2, 3)\n",
    "    plt.title('Mix')\n",
    "    plt.imshow(img)\n",
    "    plt.imshow(mask, alpha=alpha)\n",
    "    \n",
    "    plt.show()"
   ]
  },
  {
   "cell_type": "code",
   "execution_count": null,
   "metadata": {},
   "outputs": [],
   "source": []
  }
 ],
 "metadata": {
  "kernelspec": {
   "display_name": "Python 3 (ipykernel)",
   "language": "python",
   "name": "python3"
  },
  "language_info": {
   "codemirror_mode": {
    "name": "ipython",
    "version": 3
   },
   "file_extension": ".py",
   "mimetype": "text/x-python",
   "name": "python",
   "nbconvert_exporter": "python",
   "pygments_lexer": "ipython3",
   "version": "3.8.12"
  },
  "vscode": {
   "interpreter": {
    "hash": "d4d1e4263499bec80672ea0156c357c1ee493ec2b1c70f0acce89fc37c4a6abe"
   }
  }
 },
 "nbformat": 4,
 "nbformat_minor": 4
}
