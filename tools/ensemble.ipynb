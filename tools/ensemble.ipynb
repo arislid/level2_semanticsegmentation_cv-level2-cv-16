{
 "cells": [
  {
   "cell_type": "markdown",
   "metadata": {},
   "source": [
    "## hard voting"
   ]
  },
  {
   "cell_type": "code",
   "execution_count": 1,
   "metadata": {},
   "outputs": [],
   "source": [
    "import os\n",
    "from os import path as osp\n",
    "import pandas as pd\n",
    "#import numpy as np\n",
    "from tqdm import tqdm"
   ]
  },
  {
   "cell_type": "code",
   "execution_count": 2,
   "metadata": {},
   "outputs": [],
   "source": [
    "CLASSES = [ \n",
    "    'Background', 'General trash', 'Paper', 'Paper pack', 'Metal', 'Glass',\n",
    "    'Plastic', 'Styrofoam', 'Plastic bag', 'Battery', 'Clothing'\n",
    "]"
   ]
  },
  {
   "cell_type": "code",
   "execution_count": 3,
   "metadata": {},
   "outputs": [],
   "source": [
    "base_dir = '../../submission/ensemble_V3/'\n",
    "target = []\n",
    "target.append('adapter_fold1_val784')# best model\n",
    "target.append('adapter_fold0') \n",
    "target.append('adapter_fold2_val7965')\n",
    "\n",
    "output_name = f'{target[0]}_ensemble'\n",
    "\n",
    "dfs = []\n",
    "for file_name in target:\n",
    "    dfs.append(pd.read_csv(osp.join(base_dir, file_name+'.csv')))\n",
    "\n",
    "submission = pd.DataFrame()\n",
    "submission['image_id'] = dfs[0]['image_id']"
   ]
  },
  {
   "cell_type": "code",
   "execution_count": 4,
   "metadata": {},
   "outputs": [
    {
     "name": "stderr",
     "output_type": "stream",
     "text": [
      "  1%|          | 5/819 [00:02<05:51,  2.32it/s]\n"
     ]
    },
    {
     "ename": "KeyboardInterrupt",
     "evalue": "",
     "output_type": "error",
     "traceback": [
      "\u001b[1;31m---------------------------------------------------------------------------\u001b[0m",
      "\u001b[1;31mKeyboardInterrupt\u001b[0m                         Traceback (most recent call last)",
      "Cell \u001b[1;32mIn[4], line 15\u001b[0m\n\u001b[0;32m     13\u001b[0m \u001b[39mfor\u001b[39;00m t_result \u001b[39min\u001b[39;00m l_result:\n\u001b[0;32m     14\u001b[0m     pixel_count[t_result[i]] \u001b[39m+\u001b[39m\u001b[39m=\u001b[39m \u001b[39m1\u001b[39m\n\u001b[1;32m---> 15\u001b[0m voted_pixel \u001b[39m=\u001b[39m [key \u001b[39mfor\u001b[39;00m key, value \u001b[39min\u001b[39;00m pixel_count\u001b[39m.\u001b[39mitems() \u001b[39mif\u001b[39;00m value \u001b[39m==\u001b[39m \u001b[39mmax\u001b[39m(pixel_count\u001b[39m.\u001b[39mvalues())]\n\u001b[0;32m     17\u001b[0m \u001b[39m# voted_pixel이 2개 이상인 경우\u001b[39;00m\n\u001b[0;32m     18\u001b[0m \u001b[39mif\u001b[39;00m \u001b[39mlen\u001b[39m(voted_pixel) \u001b[39m>\u001b[39m \u001b[39m1\u001b[39m:\n\u001b[0;32m     19\u001b[0m     \u001b[39m# best_pixel이 뽑은 pixel이 있는 경우\u001b[39;00m\n",
      "Cell \u001b[1;32mIn[4], line 15\u001b[0m, in \u001b[0;36m<listcomp>\u001b[1;34m(.0)\u001b[0m\n\u001b[0;32m     13\u001b[0m \u001b[39mfor\u001b[39;00m t_result \u001b[39min\u001b[39;00m l_result:\n\u001b[0;32m     14\u001b[0m     pixel_count[t_result[i]] \u001b[39m+\u001b[39m\u001b[39m=\u001b[39m \u001b[39m1\u001b[39m\n\u001b[1;32m---> 15\u001b[0m voted_pixel \u001b[39m=\u001b[39m [key \u001b[39mfor\u001b[39;00m key, value \u001b[39min\u001b[39;00m pixel_count\u001b[39m.\u001b[39mitems() \u001b[39mif\u001b[39;00m value \u001b[39m==\u001b[39m \u001b[39mmax\u001b[39m(pixel_count\u001b[39m.\u001b[39mvalues())]\n\u001b[0;32m     17\u001b[0m \u001b[39m# voted_pixel이 2개 이상인 경우\u001b[39;00m\n\u001b[0;32m     18\u001b[0m \u001b[39mif\u001b[39;00m \u001b[39mlen\u001b[39m(voted_pixel) \u001b[39m>\u001b[39m \u001b[39m1\u001b[39m:\n\u001b[0;32m     19\u001b[0m     \u001b[39m# best_pixel이 뽑은 pixel이 있는 경우\u001b[39;00m\n",
      "\u001b[1;31mKeyboardInterrupt\u001b[0m: "
     ]
    }
   ],
   "source": [
    "PredictionString = []\n",
    "\n",
    "for idx in tqdm(range(len(dfs[0]))):\n",
    "    l_result = []\n",
    "    for df in dfs:\n",
    "        l_result.append(df['PredictionString'][idx].split(' '))\n",
    "        \n",
    "    result = ''\n",
    "    for i in range(len(l_result[0])):\n",
    "        pixel_count = {str(i):0 for i in range(11)}\n",
    "        \n",
    "        best_pixel = l_result[0][i]\n",
    "        for t_result in l_result:\n",
    "            pixel_count[t_result[i]] += 1\n",
    "        voted_pixel = [key for key, value in pixel_count.items() if value == max(pixel_count.values())]\n",
    "        \n",
    "        # voted_pixel이 2개 이상인 경우\n",
    "        if len(voted_pixel) > 1:\n",
    "            # best_pixel이 뽑은 pixel이 있는 경우\n",
    "            if best_pixel in pixel_count:\n",
    "                result += best_pixel + ' '\n",
    "        # 1개만 뽑힌 경우 (model이 4개 이하일 경우만)\n",
    "        else:\n",
    "            result += voted_pixel[0] + ' '\n",
    "            \n",
    "    ensemble_result = result[:-1]\n",
    "    PredictionString.append(ensemble_result)"
   ]
  },
  {
   "cell_type": "code",
   "execution_count": null,
   "metadata": {},
   "outputs": [],
   "source": [
    "submission['PredictionString'] = PredictionString\n",
    "submission.to_csv(base_dir + f'{output_name}.csv', index=False)"
   ]
  }
 ],
 "metadata": {
  "kernelspec": {
   "display_name": "mmseg",
   "language": "python",
   "name": "python3"
  },
  "language_info": {
   "codemirror_mode": {
    "name": "ipython",
    "version": 3
   },
   "file_extension": ".py",
   "mimetype": "text/x-python",
   "name": "python",
   "nbconvert_exporter": "python",
   "pygments_lexer": "ipython3",
   "version": "3.9.15"
  },
  "orig_nbformat": 4,
  "vscode": {
   "interpreter": {
    "hash": "bfe477c5148fca1922e11dce47f71e48b871a35485286b78f56ddbad621e6fd9"
   }
  }
 },
 "nbformat": 4,
 "nbformat_minor": 2
}
