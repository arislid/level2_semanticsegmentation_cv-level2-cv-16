{
 "cells": [
  {
   "cell_type": "code",
   "execution_count": null,
   "metadata": {},
   "outputs": [],
   "source": [
    "import os\n",
    "import cv2\n",
    "import pandas as pd\n",
    "import numpy as np\n",
    "from matplotlib import pyplot, colors\n",
    "from ipywidgets import interact"
   ]
  },
  {
   "cell_type": "code",
   "execution_count": null,
   "metadata": {},
   "outputs": [],
   "source": [
    "os.getcwd()"
   ]
  },
  {
   "cell_type": "code",
   "execution_count": 24,
   "metadata": {},
   "outputs": [],
   "source": [
    "root = '/opt/ml/input'\n",
    "dataset_path = \"data\"\n",
    "file = pd.read_csv('../../submission/make_pseudo_anns(512)_SeMask-FAPN_trash_dataV1_WarmupPolyLR_1e-5-model_best_31199iter_fold-0.csv')"
   ]
  },
  {
   "cell_type": "code",
   "execution_count": null,
   "metadata": {},
   "outputs": [],
   "source": [
    "for i in range(10):\n",
    "    row = file.iloc[i]\n",
    "    # print(row)\n"
   ]
  },
  {
   "cell_type": "code",
   "execution_count": 21,
   "metadata": {},
   "outputs": [
    {
     "data": {
      "application/vnd.jupyter.widget-view+json": {
       "model_id": "444caecaa0f4426db5d23a26e3a764b2",
       "version_major": 2,
       "version_minor": 0
      },
      "text/plain": [
       "interactive(children=(Dropdown(description='i', options=(0, 1, 2, 3, 4, 5, 6, 7, 8, 9, 10, 11, 12, 13, 14, 15,…"
      ]
     },
     "metadata": {},
     "output_type": "display_data"
    },
    {
     "data": {
      "text/plain": [
       "<function __main__.show_img(i)>"
      ]
     },
     "execution_count": 21,
     "metadata": {},
     "output_type": "execute_result"
    }
   ],
   "source": [
    "PALLETE = [[  0,   0,   0], [128,   0,   0], [  0, 128,   0], [128, 128,   0],\n",
    "           [  0,   0, 128], [128,   0, 128], [  0, 128, 128], [128, 128, 128],\n",
    "           [ 64,   0,   0], [192,   0,   0],[ 64, 128,   0]]\n",
    "\n",
    "import os\n",
    "from os import path as osp"
   ]
  },
  {
   "cell_type": "code",
   "execution_count": 8,
   "metadata": {},
   "outputs": [],
   "source": [
    "img_dir ='../../data/dataV0/'\n",
    "data_root = '../../submission/hornet'\n",
    "file_name = [f'fold-{i}_ensemble' for i in range(5)]\n",
    "#file_name= ['fold3_ensemble', 'no4_fold3_ensemble', 'no24_fold3_ensemble']\n",
    "file_name.append('team_best')\n",
    "len_file = len(file_name)\n",
    "\n",
    "file = [pd.read_csv(osp.join(data_root, file_name[i] + '.csv')) for i in range(len_file)]\n",
    "classes = [\n",
    "    \"Background\",\n",
    "    \"General trash\",\n",
    "    \"Paper\",\n",
    "    \"Paper pack\",\n",
    "    \"Metal\",\n",
    "    \"Glass\",\n",
    "    \"Plastic\",\n",
    "    \"Styrofoam\",\n",
    "    \"Plastic bag\",\n",
    "    \"Battery\",\n",
    "    \"Clothing\",\n",
    "]\n",
    "\n",
    "PALLETE = [[  0,   0,   0], [128,   0,   0], [  255, 0,   0], [0, 128,   0],\n",
    "           [  0,   255, 0], [0,   0, 128], [  0, 0, 255], [128, 128, 128],\n",
    "           [ 128,  128,   0], [0,   128,   128],[ 128, 0,   128]]\n"
   ]
  },
  {
   "cell_type": "code",
   "execution_count": 9,
   "metadata": {},
   "outputs": [
    {
     "data": {
      "application/vnd.jupyter.widget-view+json": {
       "model_id": "c6eec4f520ba45599d209ce63c5af090",
       "version_major": 2,
       "version_minor": 0
      },
      "text/plain": [
       "interactive(children=(Dropdown(description='i', options=(0, 1, 2, 3, 4, 5, 6, 7, 8, 9, 10, 11, 12, 13, 14, 15,…"
      ]
     },
     "metadata": {},
     "output_type": "display_data"
    },
    {
     "data": {
      "text/plain": [
       "<function __main__.show_img(i)>"
      ]
     },
     "execution_count": 9,
     "metadata": {},
     "output_type": "execute_result"
    }
   ],
   "source": [
    "\n",
    "def get_pred(kfold,i):\n",
    "    row = file[kfold].iloc[i]\n",
    "    img_id = row['image_id']\n",
    "    \n",
    "    \n",
    "    pred = row['PredictionString']\n",
    "    pred = np.array(pred.split(' '))\n",
    "    pred = np.array(list(map(lambda x: PALLETE[int(x)], pred)))\n",
    "    pred = pred.reshape((512,512,3))\n",
    "    print(img_id)\n",
    "    pyplot.imshow(pred)\n",
    "\n",
    "def show_img(i):\n",
    "    row = file[0].iloc[i]\n",
    "    preds = [get_pred(k, i) for k in range(len_file)]\n",
    "    \n",
    "    img_id = row['image_id']\n",
    "    img = cv2.imread(osp.join(img_dir, img_id))\n",
    "    img = cv2.cvtColor(img, cv2.COLOR_BGR2RGB)\n",
    "    img = cv2.resize(img, [256, 256])\n",
    "    \n",
    "\n",
    "    fig = pyplot.figure(figsize=(20,15))\n",
    "    gs_img = fig.add_gridspec(nrows=1, ncols = 1, left = 0, right = 0.4, top = 1, bottom=0.7)\n",
    "    gs_color = fig.add_gridspec(nrows=1, ncols = 1, left = 0.4, right = 1, top = 1, bottom=0.7)\n",
    "    gs_pred = fig.add_gridspec(nrows=2, ncols = len_file, left = 0, right = 1,top = 0.6, bottom=0)\n",
    "    \n",
    "    pyplot.subplot(gs_img[0,0])\n",
    "    pyplot.title(img_id)\n",
    "    pyplot.axis('off')\n",
    "    pyplot.imshow(img)\n",
    "    \n",
    "    pyplot.subplot(gs_color[0,0])\n",
    "    pyplot.title(data_root)\n",
    "    pyplot.barh(classes, [1 for _ in range(11)], color = [colors.to_hex([v /256 for v in color]) for color in PALLETE])\n",
    "    pyplot.gca().axes.xaxis.set_visible(False)\n",
    "    ax = pyplot.gca()\n",
    "    for tick in ax.yaxis.get_major_ticks():\n",
    "        tick.label.set_fontsize(20)\n",
    "    #pyplot.show()\n",
    "    \n",
    "    #print just pred\n",
    "    for file_num in range(len_file):\n",
    "        pyplot.subplot(gs_pred[0,file_num])\n",
    "        pyplot.axis('off')\n",
    "        pyplot.title(file_name[file_num])\n",
    "        pyplot.imshow(preds[file_num])\n",
    "\n",
    "        pyplot.subplot(gs_pred[1,file_num])\n",
    "        pyplot.axis('off')\n",
    "        pyplot.title(file_name[file_num] + 'Mix')\n",
    "        pyplot.imshow(img)\n",
    "        pyplot.imshow(preds[file_num], alpha=0.5)\n",
    "\n",
    "interact(show_img, i=range(819))"
   ]
  },
  {
   "cell_type": "code",
   "execution_count": 34,
   "metadata": {},
   "outputs": [
    {
     "name": "stdout",
     "output_type": "stream",
     "text": [
      "int64\n"
     ]
    },
    {
     "data": {
      "text/plain": [
       "<matplotlib.image.AxesImage at 0x7fe6a3df5a60>"
      ]
     },
     "execution_count": 34,
     "metadata": {},
     "output_type": "execute_result"
    },
    {
     "data": {
      "image/png": "[encoded data removed]",
      "text/plain": [
       "<Figure size 640x480 with 1 Axes>"
      ]
     },
     "metadata": {},
     "output_type": "display_data"
    }
   ],
   "source": [
    "pred = file[\"PredictionString\"][0]\n",
    "anns = np.array(pred.split(\" \"))\n",
    "anns = np.array(list(map(lambda x: PALLETE[int(x)], anns)), dtype=np.unit8)\n",
    "anns = anns.reshape((512, 512, 3))\n",
    "\n",
    "print(anns.dtype)\n",
    "pyplot.imshow(anns)"
   ]
  },
  {
   "cell_type": "code",
   "execution_count": 31,
   "metadata": {},
   "outputs": [],
   "source": [
    "for index, (image, pred) in enumerate(zip(file[\"image_id\"], file[\"PredictionString\"])):\n",
    "    anns = np.array(pred.split(' '))\n",
    "    anns = np.array(list(map(lambda x: PALLETE[int(x)], anns)), dtype=np.uint8)\n",
    "    anns = anns.reshape((512, 512, 3))\n",
    "    if index == 10:\n",
    "        print(anns.dtype)\n",
    "    if not os.path.exists(os.path.join(root, dataset_path, 'pseudo_annotations')):\n",
    "        os.mkdir(os.path.join(root, dataset_path, 'pseudo_annotations'))\n",
    "    anns = anns[:,:,::-1]\n",
    "    cv2.imwrite(os.path.join(root, dataset_path, 'pseudo_annotations', f'pseudo_{index:04}.png'), anns)\n"
   ]
  },
  {
   "cell_type": "code",
   "execution_count": 29,
   "metadata": {},
   "outputs": [],
   "source": [
    "for index, image in enumerate(file[\"image_id\"]):\n",
    "    temp_image = cv2.imread(os.path.join(root, dataset_path, image))\n",
    "    if not os.path.exists(os.path.join(root, dataset_path, 'pseudo_images')):\n",
    "        os.mkdir(os.path.join(root, dataset_path, 'pseudo_images'))\n",
    "    temp_image = temp_image[:,:,::-1]\n",
    "    cv2.imwrite(os.path.join(root, dataset_path, 'pseudo_images', f'pseudo_{index:04}.jpg'), temp_image)\n"
   ]
  },
  {
   "cell_type": "code",
   "execution_count": null,
   "metadata": {},
   "outputs": [],
   "source": []
  }
 ],
 "metadata": {
  "kernelspec": {
   "display_name": "mmseg",
   "language": "python",
   "name": "python3"
  },
  "language_info": {
   "codemirror_mode": {
    "name": "ipython",
    "version": 3
   },
   "file_extension": ".py",
   "mimetype": "text/x-python",
   "name": "python",
   "nbconvert_exporter": "python",
   "pygments_lexer": "ipython3",
   "version": "3.9.15 (main, Nov 24 2022, 14:39:17) [MSC v.1916 64 bit (AMD64)]"
  },
  "orig_nbformat": 4,
  "vscode": {
   "interpreter": {
    "hash": "bfe477c5148fca1922e11dce47f71e48b871a35485286b78f56ddbad621e6fd9"
   }
  }
 },
 "nbformat": 4,
 "nbformat_minor": 2
}
