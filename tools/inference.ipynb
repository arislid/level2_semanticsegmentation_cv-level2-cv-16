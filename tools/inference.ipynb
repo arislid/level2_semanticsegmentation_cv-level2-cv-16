{
 "cells": [
  {
   "cell_type": "code",
   "execution_count": 1,
   "metadata": {},
   "outputs": [],
   "source": [
    "import os\n",
    "from mmcv import Config\n",
    "from mmseg.datasets import build_dataloader, build_dataset\n",
    "from mmseg.models import build_segmentor\n",
    "from mmseg.apis import single_gpu_test\n",
    "from mmcv.runner import load_checkpoint\n",
    "from mmcv.parallel import MMDataParallel\n",
    "\n",
    "import pandas as pd\n",
    "import numpy as np\n",
    "import json\n",
    "import cv2\n",
    "\n",
    "import albumentations as A"
   ]
  },
  {
   "cell_type": "code",
   "execution_count": 3,
   "metadata": {},
   "outputs": [],
   "source": [
    "# Need to set\n",
    "CONFIG_PATH = '/opt/ml/input/level2_semanticsegmentation_cv-level2-cv-16/segmentation/configs/_custom_/mask2former_beitv2_adapter_large_896_80k_cocostuff164k_ss.py'\n",
    "TEST_IMAGES_PATH = '/opt/ml/input/data/test_images'\n",
    "ITER = 'beitv2_adapter_best_mIoU_iter_80000'\n",
    "WORK_DIR = '/opt/ml/input/level2_semanticsegmentation_cv-level2-cv-16/mmsegmentation/work_dirs/upernet_swin_large_patch4_window7_512x512_pretrain_224x224_22K_160k_ade20k_0/'"
   ]
  },
  {
   "cell_type": "code",
   "execution_count": 4,
   "metadata": {},
   "outputs": [],
   "source": [
    "cfg = Config.fromfile(CONFIG_PATH)\n",
    "root=TEST_IMAGES_PATH\n",
    "\n",
    "# dataset config 수정\n",
    "cfg.data.test.img_dir = root\n",
    "cfg.data.test.pipeline[1]['img_scale'] = (512,512) # Resize\n",
    "cfg.data.test.test_mode = True\n",
    "cfg.data.samples_per_gpu = 1\n",
    "cfg.work_dir = WORK_DIR\n",
    "# cfg.optimizer_config.grad_clip = dict(max_norm=35, norm_type=2)\n",
    "cfg.model.train_cfg = None\n",
    "\n",
    "# checkpoint path\n",
    "# checkpoint_path = os.path.join(cfg.work_dir, f'{ITER}.pth')\n",
    "checkpoint_path = f'{ITER}.pth'"
   ]
  },
  {
   "cell_type": "code",
   "execution_count": 5,
   "metadata": {},
   "outputs": [
    {
     "name": "stderr",
     "output_type": "stream",
     "text": [
      "2023-01-01 13:06:59,039 - mmseg - INFO - Loaded 819 images\n"
     ]
    },
    {
     "ename": "KeyError",
     "evalue": "'EncoderDecoderMask2Former is not in the models registry'",
     "output_type": "error",
     "traceback": [
      "\u001b[0;31m---------------------------------------------------------------------------\u001b[0m",
      "\u001b[0;31mKeyError\u001b[0m                                  Traceback (most recent call last)",
      "Cell \u001b[0;32mIn[5], line 11\u001b[0m\n\u001b[1;32m      3\u001b[0m         \u001b[39mraise\u001b[39;00m \u001b[39mAssertionError\u001b[39;00m(\u001b[39m'\u001b[39m\u001b[39mTest dataset should 819 image. Check your test.json\u001b[39m\u001b[39m'\u001b[39m)\n\u001b[1;32m      4\u001b[0m data_loader \u001b[39m=\u001b[39m build_dataloader(\n\u001b[1;32m      5\u001b[0m         dataset,\n\u001b[1;32m      6\u001b[0m         samples_per_gpu\u001b[39m=\u001b[39m\u001b[39m1\u001b[39m,\n\u001b[1;32m      7\u001b[0m         workers_per_gpu\u001b[39m=\u001b[39mcfg\u001b[39m.\u001b[39mdata\u001b[39m.\u001b[39mworkers_per_gpu,\n\u001b[1;32m      8\u001b[0m         dist\u001b[39m=\u001b[39m\u001b[39mFalse\u001b[39;00m,\n\u001b[1;32m      9\u001b[0m         shuffle\u001b[39m=\u001b[39m\u001b[39mFalse\u001b[39;00m)\n\u001b[0;32m---> 11\u001b[0m model \u001b[39m=\u001b[39m build_segmentor(cfg\u001b[39m.\u001b[39;49mmodel, test_cfg\u001b[39m=\u001b[39;49mcfg\u001b[39m.\u001b[39;49mget(\u001b[39m'\u001b[39;49m\u001b[39mtest_cfg\u001b[39;49m\u001b[39m'\u001b[39;49m))\n\u001b[1;32m     12\u001b[0m checkpoint \u001b[39m=\u001b[39m load_checkpoint(model, checkpoint_path, map_location\u001b[39m=\u001b[39m\u001b[39m'\u001b[39m\u001b[39mcpu\u001b[39m\u001b[39m'\u001b[39m)\n\u001b[1;32m     13\u001b[0m model\u001b[39m.\u001b[39mCLASSES \u001b[39m=\u001b[39m dataset\u001b[39m.\u001b[39mCLASSES\n",
      "File \u001b[0;32m/opt/conda/lib/python3.8/site-packages/mmseg/models/builder.py:48\u001b[0m, in \u001b[0;36mbuild_segmentor\u001b[0;34m(cfg, train_cfg, test_cfg)\u001b[0m\n\u001b[1;32m     44\u001b[0m \u001b[39massert\u001b[39;00m cfg\u001b[39m.\u001b[39mget(\u001b[39m'\u001b[39m\u001b[39mtrain_cfg\u001b[39m\u001b[39m'\u001b[39m) \u001b[39mis\u001b[39;00m \u001b[39mNone\u001b[39;00m \u001b[39mor\u001b[39;00m train_cfg \u001b[39mis\u001b[39;00m \u001b[39mNone\u001b[39;00m, \\\n\u001b[1;32m     45\u001b[0m     \u001b[39m'\u001b[39m\u001b[39mtrain_cfg specified in both outer field and model field \u001b[39m\u001b[39m'\u001b[39m\n\u001b[1;32m     46\u001b[0m \u001b[39massert\u001b[39;00m cfg\u001b[39m.\u001b[39mget(\u001b[39m'\u001b[39m\u001b[39mtest_cfg\u001b[39m\u001b[39m'\u001b[39m) \u001b[39mis\u001b[39;00m \u001b[39mNone\u001b[39;00m \u001b[39mor\u001b[39;00m test_cfg \u001b[39mis\u001b[39;00m \u001b[39mNone\u001b[39;00m, \\\n\u001b[1;32m     47\u001b[0m     \u001b[39m'\u001b[39m\u001b[39mtest_cfg specified in both outer field and model field \u001b[39m\u001b[39m'\u001b[39m\n\u001b[0;32m---> 48\u001b[0m \u001b[39mreturn\u001b[39;00m SEGMENTORS\u001b[39m.\u001b[39;49mbuild(\n\u001b[1;32m     49\u001b[0m     cfg, default_args\u001b[39m=\u001b[39;49m\u001b[39mdict\u001b[39;49m(train_cfg\u001b[39m=\u001b[39;49mtrain_cfg, test_cfg\u001b[39m=\u001b[39;49mtest_cfg))\n",
      "File \u001b[0;32m/opt/conda/lib/python3.8/site-packages/mmcv/utils/registry.py:212\u001b[0m, in \u001b[0;36mRegistry.build\u001b[0;34m(self, *args, **kwargs)\u001b[0m\n\u001b[1;32m    211\u001b[0m \u001b[39mdef\u001b[39;00m \u001b[39mbuild\u001b[39m(\u001b[39mself\u001b[39m, \u001b[39m*\u001b[39margs, \u001b[39m*\u001b[39m\u001b[39m*\u001b[39mkwargs):\n\u001b[0;32m--> 212\u001b[0m     \u001b[39mreturn\u001b[39;00m \u001b[39mself\u001b[39;49m\u001b[39m.\u001b[39;49mbuild_func(\u001b[39m*\u001b[39;49margs, \u001b[39m*\u001b[39;49m\u001b[39m*\u001b[39;49mkwargs, registry\u001b[39m=\u001b[39;49m\u001b[39mself\u001b[39;49m)\n",
      "File \u001b[0;32m/opt/conda/lib/python3.8/site-packages/mmcv/cnn/builder.py:27\u001b[0m, in \u001b[0;36mbuild_model_from_cfg\u001b[0;34m(cfg, registry, default_args)\u001b[0m\n\u001b[1;32m     25\u001b[0m     \u001b[39mreturn\u001b[39;00m Sequential(\u001b[39m*\u001b[39mmodules)\n\u001b[1;32m     26\u001b[0m \u001b[39melse\u001b[39;00m:\n\u001b[0;32m---> 27\u001b[0m     \u001b[39mreturn\u001b[39;00m build_from_cfg(cfg, registry, default_args)\n",
      "File \u001b[0;32m/opt/conda/lib/python3.8/site-packages/mmcv/utils/registry.py:44\u001b[0m, in \u001b[0;36mbuild_from_cfg\u001b[0;34m(cfg, registry, default_args)\u001b[0m\n\u001b[1;32m     42\u001b[0m     obj_cls \u001b[39m=\u001b[39m registry\u001b[39m.\u001b[39mget(obj_type)\n\u001b[1;32m     43\u001b[0m     \u001b[39mif\u001b[39;00m obj_cls \u001b[39mis\u001b[39;00m \u001b[39mNone\u001b[39;00m:\n\u001b[0;32m---> 44\u001b[0m         \u001b[39mraise\u001b[39;00m \u001b[39mKeyError\u001b[39;00m(\n\u001b[1;32m     45\u001b[0m             \u001b[39mf\u001b[39m\u001b[39m'\u001b[39m\u001b[39m{\u001b[39;00mobj_type\u001b[39m}\u001b[39;00m\u001b[39m is not in the \u001b[39m\u001b[39m{\u001b[39;00mregistry\u001b[39m.\u001b[39mname\u001b[39m}\u001b[39;00m\u001b[39m registry\u001b[39m\u001b[39m'\u001b[39m)\n\u001b[1;32m     46\u001b[0m \u001b[39melif\u001b[39;00m inspect\u001b[39m.\u001b[39misclass(obj_type):\n\u001b[1;32m     47\u001b[0m     obj_cls \u001b[39m=\u001b[39m obj_type\n",
      "\u001b[0;31mKeyError\u001b[0m: 'EncoderDecoderMask2Former is not in the models registry'"
     ]
    }
   ],
   "source": [
    "dataset = build_dataset(cfg.data.test)\n",
    "if len(dataset) != 819:\n",
    "        raise AssertionError('Test dataset should 819 image. Check your test.json')\n",
    "data_loader = build_dataloader(\n",
    "        dataset,\n",
    "        samples_per_gpu=1,\n",
    "        workers_per_gpu=cfg.data.workers_per_gpu,\n",
    "        dist=False,\n",
    "        shuffle=False)\n",
    "\n",
    "model = build_segmentor(cfg.model, test_cfg=cfg.get('test_cfg'))\n",
    "checkpoint = load_checkpoint(model, checkpoint_path, map_location='cpu')\n",
    "model.CLASSES = dataset.CLASSES\n",
    "model = MMDataParallel(model.cuda(), device_ids=[0])"
   ]
  },
  {
   "cell_type": "code",
   "execution_count": 46,
   "metadata": {},
   "outputs": [
    {
     "name": "stdout",
     "output_type": "stream",
     "text": [
      "[>>>>>>>>>>>>>>>>>>>>>>>>>>>>>] 819/819, 6.1 task/s, elapsed: 134s, ETA:     0s"
     ]
    }
   ],
   "source": [
    "output = single_gpu_test(model, data_loader)"
   ]
  },
  {
   "cell_type": "code",
   "execution_count": 50,
   "metadata": {},
   "outputs": [
    {
     "name": "stdout",
     "output_type": "stream",
     "text": [
      "Done\n"
     ]
    }
   ],
   "source": [
    "# sample_submisson.csv 열기\n",
    "submission = pd.read_csv('sample_submission.csv', index_col=None)\n",
    "json_dir = os.path.join(\"/opt/ml/input/data/test.json\")\n",
    "with open(json_dir, \"r\", encoding=\"utf8\") as outfile:\n",
    "    datas = json.load(outfile)\n",
    "\n",
    "# set resize\n",
    "input_size = 512\n",
    "output_size = 256\n",
    "transformed = A.Compose([A.Resize(output_size, output_size)])\n",
    "\t\t\n",
    "\n",
    "# PredictionString 대입\n",
    "for image_id, predict in enumerate(output):\n",
    "    image_id = datas[\"images\"][image_id]\n",
    "    file_name = image_id[\"file_name\"]\n",
    "    temp_mask = []\n",
    "    mask = np.array(predict, dtype='uint8')\n",
    "    mask = transformed(image=mask)\n",
    "    temp_mask.append(mask['image'])\n",
    "    oms = np.array(temp_mask)\n",
    "    cv2.imwrite(os.path.join('./mask_test', file_name), oms)\n",
    "    oms = oms.reshape([oms.shape[0], output_size*output_size]).astype(int)\n",
    "\n",
    "    string = oms.flatten()\n",
    "    submission = submission.append({\"image_id\" : file_name, \"PredictionString\" : ' '.join(str(e) for e in string.tolist())}, \n",
    "                                   ignore_index=True)\n",
    "\n",
    "# submission.csv로 저장\n",
    "submission.to_csv(f'submission_{ITER}.csv', index=False)\n",
    "\n",
    "print('Done')"
   ]
  },
  {
   "cell_type": "code",
   "execution_count": null,
   "metadata": {},
   "outputs": [],
   "source": []
  }
 ],
 "metadata": {
  "kernelspec": {
   "display_name": "Python 3.8.5 ('base')",
   "language": "python",
   "name": "python3"
  },
  "language_info": {
   "codemirror_mode": {
    "name": "ipython",
    "version": 3
   },
   "file_extension": ".py",
   "mimetype": "text/x-python",
   "name": "python",
   "nbconvert_exporter": "python",
   "pygments_lexer": "ipython3",
   "version": "3.8.5"
  },
  "orig_nbformat": 4,
  "vscode": {
   "interpreter": {
    "hash": "d4d1e4263499bec80672ea0156c357c1ee493ec2b1c70f0acce89fc37c4a6abe"
   }
  }
 },
 "nbformat": 4,
 "nbformat_minor": 2
}
