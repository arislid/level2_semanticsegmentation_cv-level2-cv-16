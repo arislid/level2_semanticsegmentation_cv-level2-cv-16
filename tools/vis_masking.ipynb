{
 "cells": [
  {
   "cell_type": "code",
   "execution_count": 1,
   "metadata": {},
   "outputs": [],
   "source": [
    "import os\n",
    "from os import path as osp\n",
    "from ipywidgets import interact, Dropdown\n",
    "import matplotlib.pyplot as plt\n",
    "import cv2\n",
    "import numpy as np"
   ]
  },
  {
   "cell_type": "code",
   "execution_count": 2,
   "metadata": {},
   "outputs": [],
   "source": [
    "CLASSES = [\n",
    "    'All', 'General trash', 'Paper', 'Paper pack', 'Metal', 'Glass',\n",
    "    'Plastic', 'Styrofoam', 'Plastic bag', 'Battery', 'Clothing'\n",
    "]\n",
    "\n",
    "PALLETE = [[  0,   0,   0], [128,   0,   0], [  0, 128,   0], [128, 128,   0],\n",
    "            [  0,   0, 128], [128,   0, 128], [  0, 128, 128], [128, 128, 128],\n",
    "            [ 64,   0,   0], [192,   0,   0],[ 64, 128,   0]]"
   ]
  },
  {
   "cell_type": "code",
   "execution_count": 3,
   "metadata": {},
   "outputs": [],
   "source": [
    "base_dir = '/opt/ml/input/data/copy_paste'\n",
    "batch_dir = 'batch_01_vt'\n",
    "img_dir = osp.join(base_dir, batch_dir, 'images')\n",
    "anno_dir = osp.join(base_dir, batch_dir, 'annotations')"
   ]
  },
  {
   "cell_type": "code",
   "execution_count": 5,
   "metadata": {},
   "outputs": [],
   "source": [
    "img_files = os.listdir(img_dir)\n",
    "anno_files = os.listdir(anno_dir)\n",
    "img_files.sort()\n",
    "anno_files.sort()"
   ]
  },
  {
   "cell_type": "code",
   "execution_count": 6,
   "metadata": {},
   "outputs": [
    {
     "data": {
      "application/vnd.jupyter.widget-view+json": {
       "model_id": "484756c6ca1d4b958897a279776d686c",
       "version_major": 2,
       "version_minor": 0
      },
      "text/plain": [
       "interactive(children=(IntSlider(value=0, description='idx', max=949), FloatSlider(value=0.5, description='alph…"
      ]
     },
     "metadata": {},
     "output_type": "display_data"
    }
   ],
   "source": [
    "@interact(\n",
    "    idx=(0, len(img_files)), \n",
    "    alpha=(0, 1, 0.1),\n",
    "    option=Dropdown(\n",
    "        options=CLASSES,\n",
    "        value=CLASSES[0],\n",
    "        description='Class:',\n",
    "        disabled=False,\n",
    "    ))\n",
    "def show_img(idx=0, alpha=0.5, option=None):\n",
    "    plt.figure(figsize=(10, 10))\n",
    "    plt.suptitle(batch_dir)\n",
    "    \n",
    "    plt.subplot(2, 2, 1)\n",
    "    plt.title(img_files[idx])\n",
    "    img = cv2.imread(osp.join(img_dir, img_files[idx]))\n",
    "    img = cv2.cvtColor(img, cv2.COLOR_BGR2RGB)\n",
    "    plt.imshow(img)\n",
    "    \n",
    "    mask = cv2.imread(osp.join(anno_dir, anno_files[idx]))\n",
    "    stuff = CLASSES.index(option)\n",
    "    print(stuff)\n",
    "    if stuff:\n",
    "        bgrLower = np.array(PALLETE[stuff][::-1])    # 추출할 색의 하한(BGR)\n",
    "        bgrUpper = np.array(PALLETE[stuff][::-1])    # 추출할 색의 상한(BGR)\n",
    "        img_mask = cv2.inRange(mask, bgrLower, bgrUpper) # BGR로 부터 마스크를 작성\n",
    "        mask = cv2.bitwise_and(mask, mask, mask=img_mask)\n",
    "    mask = cv2.cvtColor(mask, cv2.COLOR_BGR2RGB)\n",
    "    \n",
    "    plt.subplot(2, 2, 2)\n",
    "    plt.title(anno_files[idx])\n",
    "    plt.imshow(mask)\n",
    "    \n",
    "    plt.subplot(2, 2, 3)\n",
    "    plt.title('Mix')\n",
    "    plt.imshow(img)\n",
    "    plt.imshow(mask, alpha=alpha)\n",
    "    \n",
    "    plt.show()"
   ]
  },
  {
   "cell_type": "code",
   "execution_count": null,
   "metadata": {},
   "outputs": [],
   "source": []
  }
 ],
 "metadata": {
  "kernelspec": {
   "display_name": "Python 3 (ipykernel)",
   "language": "python",
   "name": "python3"
  },
  "language_info": {
   "codemirror_mode": {
    "name": "ipython",
    "version": 3
   },
   "file_extension": ".py",
   "mimetype": "text/x-python",
   "name": "python",
   "nbconvert_exporter": "python",
   "pygments_lexer": "ipython3",
   "version": "3.8.12"
  },
  "vscode": {
   "interpreter": {
    "hash": "d4d1e4263499bec80672ea0156c357c1ee493ec2b1c70f0acce89fc37c4a6abe"
   }
  }
 },
 "nbformat": 4,
 "nbformat_minor": 4
}
